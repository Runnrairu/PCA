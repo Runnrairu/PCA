{
 "cells": [
  {
   "cell_type": "code",
   "execution_count": 1,
   "metadata": {
    "collapsed": true
   },
   "outputs": [],
   "source": [
    "import numpy as np\n",
    "from sklearn.decomposition import PCA\n",
    "import matplotlib.pyplot as plt\n",
    "import pandas as pd"
   ]
  },
  {
   "cell_type": "markdown",
   "metadata": {},
   "source": [
    "## データの読み込みと加工"
   ]
  },
  {
   "cell_type": "code",
   "execution_count": 2,
   "metadata": {
    "collapsed": true
   },
   "outputs": [],
   "source": [
    "data = pd.read_csv(\"memesample.csv\",header=0).values[:,2:]\n",
    "span = 5\n",
    "row_num =data.shape[0]\n",
    "over_list = np.hstack([data[i:row_num-span+1+i] for i in range (span)])"
   ]
  },
  {
   "cell_type": "markdown",
   "metadata": {},
   "source": [
    "## 主成分分析の計算と主成分の表示　今回は第五成分まで"
   ]
  },
  {
   "cell_type": "code",
   "execution_count": 3,
   "metadata": {},
   "outputs": [
    {
     "name": "stdout",
     "output_type": "stream",
     "text": [
      "[[-0.25290858 -0.34139815 -0.01625663  0.0127731  -0.00588314 -0.06741282\n",
      "  -0.25623109 -0.37323827 -0.00923502  0.00530815 -0.00619507 -0.05114987\n",
      "  -0.25651672 -0.38662506  0.00103624 -0.00202146 -0.00403741 -0.02334067\n",
      "  -0.25367508 -0.37677348  0.01058082 -0.00784121  0.00193395  0.00854273\n",
      "  -0.24880853 -0.34735042  0.0156849  -0.01184928  0.01150928  0.03558554]\n",
      " [ 0.00480753  0.19160849 -0.02672846  0.09751367 -0.06040216 -0.36046681\n",
      "  -0.00771284  0.12507391 -0.03262542  0.09977407 -0.06981884 -0.41855543\n",
      "  -0.02074228  0.03161608 -0.02912342  0.095205   -0.07909348 -0.44752892\n",
      "  -0.03068302 -0.05853227 -0.01401719  0.08683252 -0.0852195  -0.43824786\n",
      "  -0.03553524 -0.11668032  0.00856396  0.07789784 -0.08444888 -0.39396962]\n",
      " [-0.33716946  0.11712252  0.10236859  0.02253322 -0.06473742  0.19999964\n",
      "  -0.33597658  0.24178174  0.09460076  0.06874115 -0.03811982  0.15797004\n",
      "  -0.33690483  0.29921987  0.05783963  0.10940921 -0.0105644   0.06900592\n",
      "  -0.34043251  0.26268741  0.00715585  0.13448234  0.00804133 -0.03935152\n",
      "  -0.34244199  0.14920648 -0.03469791  0.14077947  0.01210495 -0.13200875]\n",
      " [ 0.02000772  0.09082058  0.07928529  0.22549132  0.29900804  0.12831298\n",
      "   0.03906549  0.08096334 -0.08811913  0.25789417  0.32622551  0.07293283\n",
      "   0.04270792 -0.00725934 -0.24640616  0.24965342  0.30099731  0.01707695\n",
      "   0.0390967  -0.1315718  -0.33526294  0.20617368  0.22616381 -0.0140873\n",
      "   0.03716009 -0.22841562 -0.32244504  0.14225489  0.12435163 -0.01087533]\n",
      " [ 0.08372948  0.01224474 -0.173132    0.29398918 -0.20282345  0.08761204\n",
      "   0.05870302 -0.04335369 -0.15959775  0.31010279 -0.27191076  0.10845012\n",
      "   0.04201564 -0.06593692 -0.10267071  0.30143371 -0.32279935  0.13043853\n",
      "   0.03234034 -0.05329276 -0.02452438  0.26868787 -0.34051482  0.14299086\n",
      "   0.02399739 -0.02129396  0.04364341  0.21828528 -0.32132549  0.13901117]]\n"
     ]
    }
   ],
   "source": [
    "pca = PCA(n_components=5)\n",
    "pca.fit(over_list)\n",
    "print(pca.components_)\n",
    "ev_ratio = pca.explained_variance_ratio_\n",
    "ev_ratio = np.hstack([0,ev_ratio.cumsum()])"
   ]
  },
  {
   "cell_type": "markdown",
   "metadata": {},
   "source": [
    "## 累積寄与率の表示"
   ]
  },
  {
   "cell_type": "code",
   "execution_count": 4,
   "metadata": {},
   "outputs": [
    {
     "data": {
      "image/png": "[encoded data removed]",
      "text/plain": [
       "<matplotlib.figure.Figure at 0x1bcde9ed3c8>"
      ]
     },
     "metadata": {},
     "output_type": "display_data"
    }
   ],
   "source": [
    "plt.plot(ev_ratio)\n",
    "plt.show()"
   ]
  }
 ],
 "metadata": {
  "kernelspec": {
   "display_name": "Python 3",
   "language": "python",
   "name": "python3"
  },
  "language_info": {
   "codemirror_mode": {
    "name": "ipython",
    "version": 3
   },
   "file_extension": ".py",
   "mimetype": "text/x-python",
   "name": "python",
   "nbconvert_exporter": "python",
   "pygments_lexer": "ipython3",
   "version": "3.6.3"
  }
 },
 "nbformat": 4,
 "nbformat_minor": 2
}
